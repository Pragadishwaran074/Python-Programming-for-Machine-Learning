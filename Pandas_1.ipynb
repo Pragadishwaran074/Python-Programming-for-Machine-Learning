{
  "nbformat": 4,
  "nbformat_minor": 0,
  "metadata": {
    "colab": {
      "provenance": [],
      "authorship_tag": "ABX9TyNEJz9iDMBDeX4B5oMPZSxL",
      "include_colab_link": true
    },
    "kernelspec": {
      "name": "python3",
      "display_name": "Python 3"
    },
    "language_info": {
      "name": "python"
    }
  },
  "cells": [
    {
      "cell_type": "markdown",
      "metadata": {
        "id": "view-in-github",
        "colab_type": "text"
      },
      "source": [
        "<a href=\"https://colab.research.google.com/github/Pragadishwaran074/Python-Programming-for-Machine-Learning/blob/main/Pandas_1.ipynb\" target=\"_parent\"><img src=\"https://colab.research.google.com/assets/colab-badge.svg\" alt=\"Open In Colab\"/></a>"
      ]
    },
    {
      "cell_type": "code",
      "execution_count": 1,
      "metadata": {
        "colab": {
          "base_uri": "https://localhost:8080/"
        },
        "id": "Q5w9G2okUQc1",
        "outputId": "f55b45dd-c0c0-4b26-cfb4-413042b53568"
      },
      "outputs": [
        {
          "output_type": "stream",
          "name": "stdout",
          "text": [
            "Empty DataFrame\n",
            "Columns: []\n",
            "Index: []\n"
          ]
        }
      ],
      "source": [
        "import pandas as pd\n",
        "df=pd.DataFrame()\n",
        "print(df)"
      ]
    },
    {
      "cell_type": "code",
      "source": [
        "emp=pd.Series(['dharsan','sudeep','siva','yash','keerthana'])\n",
        "id=pd.Series([80,90,28,57,49])\n",
        "Frame={'Emp':emp,'ID':id}\n",
        "result=pd.DataFrame(Frame)\n",
        "print(\"\\nseries to DataFrame\\n\")\n",
        "print(result)"
      ],
      "metadata": {
        "colab": {
          "base_uri": "https://localhost:8080/"
        },
        "id": "g7h6k8L_UXxh",
        "outputId": "03caf996-b9d3-4290-ace9-383c02db6eb9"
      },
      "execution_count": 2,
      "outputs": [
        {
          "output_type": "stream",
          "name": "stdout",
          "text": [
            "\n",
            "series to DataFrame\n",
            "\n",
            "         Emp  ID\n",
            "0    dharsan  80\n",
            "1     sudeep  90\n",
            "2       siva  28\n",
            "3       yash  57\n",
            "4  keerthana  49\n"
          ]
        }
      ]
    },
    {
      "cell_type": "code",
      "source": [
        "print(\"\\n Extracting one column\\n\")\n",
        "print(result['Emp'])"
      ],
      "metadata": {
        "colab": {
          "base_uri": "https://localhost:8080/"
        },
        "id": "zX6lhT0qUX0A",
        "outputId": "9ceea315-43d1-46aa-fcb3-ce0b7f7f666b"
      },
      "execution_count": 3,
      "outputs": [
        {
          "output_type": "stream",
          "name": "stdout",
          "text": [
            "\n",
            " Extracting one column\n",
            "\n",
            "0      dharsan\n",
            "1       sudeep\n",
            "2         siva\n",
            "3         yash\n",
            "4    keerthana\n",
            "Name: Emp, dtype: object\n"
          ]
        }
      ]
    },
    {
      "cell_type": "code",
      "source": [
        "print(\"\\n Adding new column\")\n",
        "result['ID']=pd.Series([80,90,28,56,89])\n",
        "result['Age']=pd.Series([19,90,34,67,20])\n",
        "print(result)"
      ],
      "metadata": {
        "colab": {
          "base_uri": "https://localhost:8080/"
        },
        "id": "QfGP8sJgUX2p",
        "outputId": "d8833cb4-ece6-48e8-94c8-8fce7a89d50d"
      },
      "execution_count": 4,
      "outputs": [
        {
          "output_type": "stream",
          "name": "stdout",
          "text": [
            "\n",
            " Adding new column\n",
            "         Emp  ID  Age\n",
            "0    dharsan  80   19\n",
            "1     sudeep  90   90\n",
            "2       siva  28   34\n",
            "3       yash  56   67\n",
            "4  keerthana  89   20\n"
          ]
        }
      ]
    },
    {
      "cell_type": "code",
      "source": [
        "print(\"\\n deleting new column:\\n\")\n",
        "del result['Age']\n",
        "print(result)"
      ],
      "metadata": {
        "colab": {
          "base_uri": "https://localhost:8080/"
        },
        "id": "ObgJd0QPUX5y",
        "outputId": "752ab101-af96-4c4b-8242-76d9a9890d5b"
      },
      "execution_count": 5,
      "outputs": [
        {
          "output_type": "stream",
          "name": "stdout",
          "text": [
            "\n",
            " deleting new column:\n",
            "\n",
            "         Emp  ID\n",
            "0    dharsan  80\n",
            "1     sudeep  90\n",
            "2       siva  28\n",
            "3       yash  56\n",
            "4  keerthana  89\n"
          ]
        }
      ]
    },
    {
      "cell_type": "code",
      "source": [
        "print(\"\\n Extracting the second row:\\n\")\n",
        "print(result.loc[1])"
      ],
      "metadata": {
        "colab": {
          "base_uri": "https://localhost:8080/"
        },
        "id": "yxCo76xCUX8Q",
        "outputId": "bac17184-b298-4c81-ca7e-73e8edef3bd8"
      },
      "execution_count": 6,
      "outputs": [
        {
          "output_type": "stream",
          "name": "stdout",
          "text": [
            "\n",
            " Extracting the second row:\n",
            "\n",
            "Emp    sudeep\n",
            "ID         90\n",
            "Name: 1, dtype: object\n"
          ]
        }
      ]
    },
    {
      "cell_type": "code",
      "source": [
        "print(\"slice rows:\\n\",result[1:4])"
      ],
      "metadata": {
        "colab": {
          "base_uri": "https://localhost:8080/"
        },
        "id": "APBSr06yUX-w",
        "outputId": "b398b561-f965-4618-a3ca-f8681005891d"
      },
      "execution_count": 7,
      "outputs": [
        {
          "output_type": "stream",
          "name": "stdout",
          "text": [
            "slice rows:\n",
            "       Emp  ID\n",
            "1  sudeep  90\n",
            "2    siva  28\n",
            "3    yash  56\n"
          ]
        }
      ]
    },
    {
      "cell_type": "code",
      "source": [
        "d2=pd.DataFrame([['vicky',100],['Rashid',111]],columns=['Emp','ID'])\n",
        "print(\"\\n Addind new row values:\\n\",pd.concat([result,d2]))"
      ],
      "metadata": {
        "colab": {
          "base_uri": "https://localhost:8080/"
        },
        "id": "sbjM7O8HUYBp",
        "outputId": "30ac3409-6f5c-4fa5-b86c-fd62c7dc3382"
      },
      "execution_count": 8,
      "outputs": [
        {
          "output_type": "stream",
          "name": "stdout",
          "text": [
            "\n",
            " Addind new row values:\n",
            "          Emp   ID\n",
            "0    dharsan   80\n",
            "1     sudeep   90\n",
            "2       siva   28\n",
            "3       yash   56\n",
            "4  keerthana   89\n",
            "0      vicky  100\n",
            "1     Rashid  111\n"
          ]
        }
      ]
    }
  ]
}