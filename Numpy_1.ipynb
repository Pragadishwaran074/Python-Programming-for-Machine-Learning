{
  "nbformat": 4,
  "nbformat_minor": 0,
  "metadata": {
    "colab": {
      "provenance": [],
      "authorship_tag": "ABX9TyORiN0KnNzn4LyRy8+k5fQw",
      "include_colab_link": true
    },
    "kernelspec": {
      "name": "python3",
      "display_name": "Python 3"
    },
    "language_info": {
      "name": "python"
    }
  },
  "cells": [
    {
      "cell_type": "markdown",
      "metadata": {
        "id": "view-in-github",
        "colab_type": "text"
      },
      "source": [
        "<a href=\"https://colab.research.google.com/github/Pragadishwaran074/Python-Programming-for-Machine-Learning/blob/main/Numpy_1.ipynb\" target=\"_parent\"><img src=\"https://colab.research.google.com/assets/colab-badge.svg\" alt=\"Open In Colab\"/></a>"
      ]
    },
    {
      "cell_type": "code",
      "execution_count": 1,
      "metadata": {
        "colab": {
          "base_uri": "https://localhost:8080/"
        },
        "id": "LFO_qO1HQpZj",
        "outputId": "f6a3694a-1664-47fb-e9a4-8ec2ad9d18db"
      },
      "outputs": [
        {
          "output_type": "stream",
          "name": "stdout",
          "text": [
            "[[10 20 30]\n",
            " [50 80 70]]\n",
            "Array created : [[10 20 30]\n",
            " [50 80 70]]\n"
          ]
        }
      ],
      "source": [
        "import numpy as np\n",
        "a=np.array([[10,20,30],[50,80,70]])\n",
        "print(a)\n",
        "print(\"Array created :\",a)"
      ]
    },
    {
      "cell_type": "code",
      "source": [
        "c=np.zeros((3,5))\n",
        "print(\"\\nArray with all zeros:\\n\",c)"
      ],
      "metadata": {
        "colab": {
          "base_uri": "https://localhost:8080/"
        },
        "id": "UsaCbHs-QqmP",
        "outputId": "a69eb15f-859e-4513-9f6b-6ae955094330"
      },
      "execution_count": 2,
      "outputs": [
        {
          "output_type": "stream",
          "name": "stdout",
          "text": [
            "\n",
            "Array with all zeros:\n",
            " [[0. 0. 0. 0. 0.]\n",
            " [0. 0. 0. 0. 0.]\n",
            " [0. 0. 0. 0. 0.]]\n"
          ]
        }
      ]
    },
    {
      "cell_type": "code",
      "source": [
        "d=np.random.random((4,4))\n",
        "print(\"\\nRandom value:\",d)"
      ],
      "metadata": {
        "colab": {
          "base_uri": "https://localhost:8080/"
        },
        "id": "Qqf7D8HoQqov",
        "outputId": "baa50721-8d03-4c72-b68a-027b5b82e723"
      },
      "execution_count": 3,
      "outputs": [
        {
          "output_type": "stream",
          "name": "stdout",
          "text": [
            "\n",
            "Random value: [[0.24632692 0.53487637 0.90220756 0.05941504]\n",
            " [0.45856927 0.48365384 0.39015586 0.03761228]\n",
            " [0.84740872 0.39270892 0.53303363 0.42738648]\n",
            " [0.63389083 0.71882522 0.70351477 0.34445987]]\n"
          ]
        }
      ]
    },
    {
      "cell_type": "code",
      "source": [
        "e=np.arange(0,20,2)\n",
        "print(\"Array:\\n\",e)"
      ],
      "metadata": {
        "colab": {
          "base_uri": "https://localhost:8080/"
        },
        "id": "G8U9OWplQqrf",
        "outputId": "759927fa-d84e-4410-a5eb-46f38ea25723"
      },
      "execution_count": 4,
      "outputs": [
        {
          "output_type": "stream",
          "name": "stdout",
          "text": [
            "Array:\n",
            " [ 0  2  4  6  8 10 12 14 16 18]\n"
          ]
        }
      ]
    },
    {
      "cell_type": "code",
      "source": [
        "import numpy as np\n",
        "arr=np.array([[1,2,3,4],[5,6,7,8],[1,2,0,1]])\n",
        "newarr=arr.reshape(4,3)\n",
        "print(arr)\n",
        "print(newarr)"
      ],
      "metadata": {
        "colab": {
          "base_uri": "https://localhost:8080/"
        },
        "id": "Sfvkh5oAQquP",
        "outputId": "894c1444-8f9a-4322-9285-288fff1de2d0"
      },
      "execution_count": 5,
      "outputs": [
        {
          "output_type": "stream",
          "name": "stdout",
          "text": [
            "[[1 2 3 4]\n",
            " [5 6 7 8]\n",
            " [1 2 0 1]]\n",
            "[[1 2 3]\n",
            " [4 5 6]\n",
            " [7 8 1]\n",
            " [2 0 1]]\n"
          ]
        }
      ]
    },
    {
      "cell_type": "code",
      "source": [
        "f=(np.full((3,4),(7)))\n",
        "print(f)"
      ],
      "metadata": {
        "colab": {
          "base_uri": "https://localhost:8080/"
        },
        "id": "KsqodvkfQqxI",
        "outputId": "c134e709-e8dd-4d2b-a93c-73ba3e48eaa2"
      },
      "execution_count": 6,
      "outputs": [
        {
          "output_type": "stream",
          "name": "stdout",
          "text": [
            "[[7 7 7 7]\n",
            " [7 7 7 7]\n",
            " [7 7 7 7]]\n"
          ]
        }
      ]
    },
    {
      "cell_type": "code",
      "source": [
        "import numpy as np\n",
        "flat=arr.flatten()\n",
        "print(\"Original array:\\n\",arr)\n",
        "print(\"Flattened array:\\n\",flat)"
      ],
      "metadata": {
        "colab": {
          "base_uri": "https://localhost:8080/"
        },
        "id": "EkIlFBY4Qq0A",
        "outputId": "943c4405-91bf-4eff-dc3d-57a7f11d2e73"
      },
      "execution_count": 8,
      "outputs": [
        {
          "output_type": "stream",
          "name": "stdout",
          "text": [
            "Original array:\n",
            " [[1 2 3 4]\n",
            " [5 6 7 8]\n",
            " [1 2 0 1]]\n",
            "Flattened array:\n",
            " [1 2 3 4 5 6 7 8 1 2 0 1]\n"
          ]
        }
      ]
    },
    {
      "cell_type": "code",
      "source": [
        "print(\"\\n No. of dimensions:\",arr.ndim)"
      ],
      "metadata": {
        "colab": {
          "base_uri": "https://localhost:8080/"
        },
        "id": "oaPbvP9uQq2p",
        "outputId": "9f0ac797-a75f-40cf-cc26-f7ac464cae7a"
      },
      "execution_count": 9,
      "outputs": [
        {
          "output_type": "stream",
          "name": "stdout",
          "text": [
            "\n",
            " No. of dimensions: 2\n"
          ]
        }
      ]
    },
    {
      "cell_type": "code",
      "source": [
        "print(\"Arrat shape:\",arr.shape)"
      ],
      "metadata": {
        "colab": {
          "base_uri": "https://localhost:8080/"
        },
        "id": "8_xt-QxVQq5g",
        "outputId": "2f096ca9-15f4-4846-bfca-550cd3075f54"
      },
      "execution_count": 10,
      "outputs": [
        {
          "output_type": "stream",
          "name": "stdout",
          "text": [
            "Arrat shape: (3, 4)\n"
          ]
        }
      ]
    },
    {
      "cell_type": "code",
      "source": [
        "print(\"Array type:\",arr.dtype)"
      ],
      "metadata": {
        "colab": {
          "base_uri": "https://localhost:8080/"
        },
        "id": "vzgD1bEEQq8I",
        "outputId": "2c87bd55-5a09-4fbb-edd1-5e6116fc9c9b"
      },
      "execution_count": 11,
      "outputs": [
        {
          "output_type": "stream",
          "name": "stdout",
          "text": [
            "Array type: int64\n"
          ]
        }
      ]
    },
    {
      "cell_type": "code",
      "source": [
        "newtype=arr.astype('f')\n",
        "print(\"\\n convert array:\\n\",newtype)\n",
        "print(\"\\n convert array type:\\n\",newtype.dtype)"
      ],
      "metadata": {
        "colab": {
          "base_uri": "https://localhost:8080/"
        },
        "id": "aHWqcDiyQq-n",
        "outputId": "14615b0a-0751-45c6-9a7f-4fb46cbb76ae"
      },
      "execution_count": 12,
      "outputs": [
        {
          "output_type": "stream",
          "name": "stdout",
          "text": [
            "\n",
            " convert array:\n",
            " [[1. 2. 3. 4.]\n",
            " [5. 6. 7. 8.]\n",
            " [1. 2. 0. 1.]]\n",
            "\n",
            " convert array type:\n",
            " float32\n"
          ]
        }
      ]
    },
    {
      "cell_type": "code",
      "source": [
        "size=len(arr)\n",
        "print(\"\\n size of array:\\n\",size)"
      ],
      "metadata": {
        "colab": {
          "base_uri": "https://localhost:8080/"
        },
        "id": "b2k6tz4bQrWH",
        "outputId": "46466047-a2f2-413f-96ac-5e03b68b3cfd"
      },
      "execution_count": 13,
      "outputs": [
        {
          "output_type": "stream",
          "name": "stdout",
          "text": [
            "\n",
            " size of array:\n",
            " 3\n"
          ]
        }
      ]
    }
  ]
}