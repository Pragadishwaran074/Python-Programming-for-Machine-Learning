{
  "nbformat": 4,
  "nbformat_minor": 0,
  "metadata": {
    "colab": {
      "provenance": [],
      "authorship_tag": "ABX9TyMnjnfSSLpv/f07w3/IOBQX",
      "include_colab_link": true
    },
    "kernelspec": {
      "name": "python3",
      "display_name": "Python 3"
    },
    "language_info": {
      "name": "python"
    }
  },
  "cells": [
    {
      "cell_type": "markdown",
      "metadata": {
        "id": "view-in-github",
        "colab_type": "text"
      },
      "source": [
        "<a href=\"https://colab.research.google.com/github/Pragadishwaran074/Python-Programming-for-Machine-Learning/blob/main/Numpy_4.ipynb\" target=\"_parent\"><img src=\"https://colab.research.google.com/assets/colab-badge.svg\" alt=\"Open In Colab\"/></a>"
      ]
    },
    {
      "cell_type": "code",
      "execution_count": 1,
      "metadata": {
        "colab": {
          "base_uri": "https://localhost:8080/"
        },
        "id": "2x2jBYlyTmpM",
        "outputId": "1db5429f-3728-4794-d2b5-3c002a70ad23"
      },
      "outputs": [
        {
          "output_type": "stream",
          "name": "stdout",
          "text": [
            "[10 20 30 40 50]\n",
            "[6 2 9 7 1]\n",
            "[16 22 39 47 51]\n",
            "[ 4 18 21 33 49]\n",
            "[ 60  40 270 280  50]\n",
            "[ 1.66666667 10.          3.33333333  5.71428571 50.        ]\n"
          ]
        }
      ],
      "source": [
        "import numpy as np\n",
        "arr1=[10,20,30,40,50]\n",
        "arr2=[6,2,9,7,1]\n",
        "a=np.array(arr1)\n",
        "b=np.array(arr2)\n",
        "print(a)\n",
        "print(b)\n",
        "print(a+b)\n",
        "print(a-b)\n",
        "print(a*b)\n",
        "print(a/b)"
      ]
    },
    {
      "cell_type": "code",
      "source": [
        "print(a.dot(b))\n",
        "sclr=3\n",
        "print(\"scalar value:\",sclr)\n",
        "print(\"array:\",a)\n",
        "print(\"result:\",a*sclr)"
      ],
      "metadata": {
        "colab": {
          "base_uri": "https://localhost:8080/"
        },
        "id": "xQJbhPdxTnXB",
        "outputId": "86886e4e-d8d7-4e33-c19f-e65ed3e2f31b"
      },
      "execution_count": 2,
      "outputs": [
        {
          "output_type": "stream",
          "name": "stdout",
          "text": [
            "700\n",
            "scalar value: 3\n",
            "array: [10 20 30 40 50]\n",
            "result: [ 30  60  90 120 150]\n"
          ]
        }
      ]
    },
    {
      "cell_type": "code",
      "source": [
        "import numpy as np\n",
        "a=np.array([[10,20],[30,40]])\n",
        "b=np.array([[3,7],[5,9]])\n",
        "print(a%b)"
      ],
      "metadata": {
        "colab": {
          "base_uri": "https://localhost:8080/"
        },
        "id": "2_6XfKfkTnZY",
        "outputId": "56d09973-d7a9-43da-d928-8d3ea4c69460"
      },
      "execution_count": 3,
      "outputs": [
        {
          "output_type": "stream",
          "name": "stdout",
          "text": [
            "[[1 6]\n",
            " [0 4]]\n"
          ]
        }
      ]
    },
    {
      "cell_type": "code",
      "source": [
        "def my_func(x,y):\n",
        "    if x>y:\n",
        "        return x-y\n",
        "    else:\n",
        "        return x+y\n",
        "arr1=[10,20,30,40]\n",
        "arr2=[2,10,35,25]\n",
        "vect_func=np.vectorize(my_func)\n",
        "print(\"Array1:\",arr1)\n",
        "print(\"Array2:\",arr2)\n",
        "print(\"Result:\",vect_func(arr1,arr2))"
      ],
      "metadata": {
        "colab": {
          "base_uri": "https://localhost:8080/"
        },
        "id": "vnTYjutfTncA",
        "outputId": "a0f1c535-3a99-4d21-b5fa-d1e223004d76"
      },
      "execution_count": 4,
      "outputs": [
        {
          "output_type": "stream",
          "name": "stdout",
          "text": [
            "Array1: [10, 20, 30, 40]\n",
            "Array2: [2, 10, 35, 25]\n",
            "Result: [ 8 10 65 15]\n"
          ]
        }
      ]
    }
  ]
}