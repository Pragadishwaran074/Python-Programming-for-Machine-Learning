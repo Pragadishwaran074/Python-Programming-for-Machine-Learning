{
  "nbformat": 4,
  "nbformat_minor": 0,
  "metadata": {
    "colab": {
      "provenance": [],
      "authorship_tag": "ABX9TyMi0GdaqPLFTi48XTjYj3Qc",
      "include_colab_link": true
    },
    "kernelspec": {
      "name": "python3",
      "display_name": "Python 3"
    },
    "language_info": {
      "name": "python"
    }
  },
  "cells": [
    {
      "cell_type": "markdown",
      "metadata": {
        "id": "view-in-github",
        "colab_type": "text"
      },
      "source": [
        "<a href=\"https://colab.research.google.com/github/Pragadishwaran074/Python-Programming-for-Machine-Learning/blob/main/Pandas_2.ipynb\" target=\"_parent\"><img src=\"https://colab.research.google.com/assets/colab-badge.svg\" alt=\"Open In Colab\"/></a>"
      ]
    },
    {
      "cell_type": "code",
      "execution_count": 1,
      "metadata": {
        "colab": {
          "base_uri": "https://localhost:8080/"
        },
        "id": "k7AtDg1pUwFS",
        "outputId": "1160b1cf-d47c-419a-8806-451e8c10b7cd"
      },
      "outputs": [
        {
          "output_type": "stream",
          "name": "stdout",
          "text": [
            "DataFrame.applyfunction:\n",
            "\n",
            "\n",
            " Original DataFrame:\n",
            "    S  R\n",
            "0  3  9\n",
            "1  3  9\n",
            "2  3  9\n",
            "3  3  9\n",
            "\n",
            " Squareroot of DataFrame:\n",
            "           S    R\n",
            "0  1.732051  3.0\n",
            "1  1.732051  3.0\n",
            "2  1.732051  3.0\n",
            "3  1.732051  3.0\n",
            "\n",
            " sum of each column:\n",
            " S    12\n",
            "R    36\n",
            "dtype: int64\n",
            "\n",
            " sum of each row:\n",
            " 0    12\n",
            "1    12\n",
            "2    12\n",
            "3    12\n",
            "dtype: int64\n"
          ]
        }
      ],
      "source": [
        "import pandas as pd\n",
        "import numpy as np\n",
        "print(\"DataFrame.applyfunction:\\n\")\n",
        "info=pd.DataFrame([[3,9]]*4,columns=['S','R'])\n",
        "print(\"\\n Original DataFrame:\\n\",info)\n",
        "print(\"\\n Squareroot of DataFrame:\\n\",info.apply(np.sqrt))\n",
        "print(\"\\n sum of each column:\\n\",info.apply(np.sum,axis=0))\n",
        "print(\"\\n sum of each row:\\n\",info.apply(np.sum,axis=1))"
      ]
    },
    {
      "cell_type": "code",
      "source": [
        "info=pd.DataFrame([[2,4,6],[1,3,5],[5,8,7]],columns=['x','y','z'])\n",
        "print(\"\\n Orginal DataFrame : \\n\",info)\n",
        "print(\"\\n Minimum and maximum of each colum:\\n\")\n",
        "print(info.agg(['min','max']))"
      ],
      "metadata": {
        "colab": {
          "base_uri": "https://localhost:8080/"
        },
        "id": "HCAok-LCUy1B",
        "outputId": "9b9dbb64-c43b-40d0-f0d1-1c7353ef12a1"
      },
      "execution_count": 2,
      "outputs": [
        {
          "output_type": "stream",
          "name": "stdout",
          "text": [
            "\n",
            " Orginal DataFrame : \n",
            "    x  y  z\n",
            "0  2  4  6\n",
            "1  1  3  5\n",
            "2  5  8  7\n",
            "\n",
            " Minimum and maximum of each colum:\n",
            "\n",
            "     x  y  z\n",
            "min  1  3  5\n",
            "max  5  8  7\n"
          ]
        }
      ]
    },
    {
      "cell_type": "code",
      "source": [
        "import pandas as pd\n",
        "import numpy as np\n",
        "print(\"\\n DataFrame.Assign function : \\n\")\n",
        "d2=pd.DataFrame([['A',88],['B',70]])\n",
        "col=(['Emp','ID'])\n",
        "print(\"\\n Original DataFrame: \\n\",d2)\n",
        "d2['Age']=[20,18]\n",
        "print(\"\\n Adding new column: \\n\",d2)\n",
        "d=d2.assign(sex=['Male','Male'])\n",
        "print(\"\\n Adding new column: \\n\",d)"
      ],
      "metadata": {
        "colab": {
          "base_uri": "https://localhost:8080/"
        },
        "id": "3OrQpQqaUy3o",
        "outputId": "3b7f54d5-5121-4c90-b931-ad56988b01e4"
      },
      "execution_count": 3,
      "outputs": [
        {
          "output_type": "stream",
          "name": "stdout",
          "text": [
            "\n",
            " DataFrame.Assign function : \n",
            "\n",
            "\n",
            " Original DataFrame: \n",
            "    0   1\n",
            "0  A  88\n",
            "1  B  70\n",
            "\n",
            " Adding new column: \n",
            "    0   1  Age\n",
            "0  A  88   20\n",
            "1  B  70   18\n",
            "\n",
            " Adding new column: \n",
            "    0   1  Age   sex\n",
            "0  A  88   20  Male\n",
            "1  B  70   18  Male\n"
          ]
        }
      ]
    },
    {
      "cell_type": "code",
      "source": [
        "print(\"\\n dataframe sort function:\\n\")\n",
        "info=pd.DataFrame(np.random.randn(5,2),index=[3,2,0,4,1],columns=['A','B'])\n",
        "print(info)\n",
        "info2=info.sort_index()\n",
        "print(\"\\n sort index:\\n\",info2)\n",
        "info3=info.sort_values(by='A')\n",
        "print(\"\\n sort values:\\n\",info3)"
      ],
      "metadata": {
        "colab": {
          "base_uri": "https://localhost:8080/"
        },
        "id": "MiHM12h-Uy6I",
        "outputId": "dcfc6530-8536-454c-b520-7062ecbc8288"
      },
      "execution_count": 4,
      "outputs": [
        {
          "output_type": "stream",
          "name": "stdout",
          "text": [
            "\n",
            " dataframe sort function:\n",
            "\n",
            "          A         B\n",
            "3  0.337925 -2.508682\n",
            "2 -1.671225  1.163205\n",
            "0  0.916339  1.208188\n",
            "4 -0.928473 -0.061945\n",
            "1 -0.914393 -1.733511\n",
            "\n",
            " sort index:\n",
            "           A         B\n",
            "0  0.916339  1.208188\n",
            "1 -0.914393 -1.733511\n",
            "2 -1.671225  1.163205\n",
            "3  0.337925 -2.508682\n",
            "4 -0.928473 -0.061945\n",
            "\n",
            " sort values:\n",
            "           A         B\n",
            "2 -1.671225  1.163205\n",
            "4 -0.928473 -0.061945\n",
            "1 -0.914393 -1.733511\n",
            "3  0.337925 -2.508682\n",
            "0  0.916339  1.208188\n"
          ]
        }
      ]
    },
    {
      "cell_type": "code",
      "source": [
        "print(\"\\n DataFrame merge function:\\n\")\n",
        "left=pd.DataFrame({'id':[1,2,3,4],\n",
        "                  'name':['sai','ravi','poo','yash'],\n",
        "                  'sub':['sub1','sub2','sub4','sub3']})\n",
        "right=pd.DataFrame({'id':[1,2,3,4],\n",
        "                    'name':['sanjay','ram','selvin','raju'],\n",
        "                    'sub':['sub1','sub2','sub3','sub2']})\n",
        "print(left)\n",
        "print(right)\n",
        "print(pd.merge(left,right,on='id'))"
      ],
      "metadata": {
        "colab": {
          "base_uri": "https://localhost:8080/"
        },
        "id": "E0Z6WRl6Uy8p",
        "outputId": "6f61b803-948c-4a9b-c4ef-0fd7db8f5cc2"
      },
      "execution_count": 5,
      "outputs": [
        {
          "output_type": "stream",
          "name": "stdout",
          "text": [
            "\n",
            " DataFrame merge function:\n",
            "\n",
            "   id  name   sub\n",
            "0   1   sai  sub1\n",
            "1   2  ravi  sub2\n",
            "2   3   poo  sub4\n",
            "3   4  yash  sub3\n",
            "   id    name   sub\n",
            "0   1  sanjay  sub1\n",
            "1   2     ram  sub2\n",
            "2   3  selvin  sub3\n",
            "3   4    raju  sub2\n",
            "   id name_x sub_x  name_y sub_y\n",
            "0   1    sai  sub1  sanjay  sub1\n",
            "1   2   ravi  sub2     ram  sub2\n",
            "2   3    poo  sub4  selvin  sub3\n",
            "3   4   yash  sub3    raju  sub2\n"
          ]
        }
      ]
    }
  ]
}