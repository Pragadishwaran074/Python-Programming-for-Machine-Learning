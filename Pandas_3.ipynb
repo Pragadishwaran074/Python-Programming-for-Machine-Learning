{
  "nbformat": 4,
  "nbformat_minor": 0,
  "metadata": {
    "colab": {
      "provenance": [],
      "authorship_tag": "ABX9TyNXt63yN60kc5UvyA/quid0",
      "include_colab_link": true
    },
    "kernelspec": {
      "name": "python3",
      "display_name": "Python 3"
    },
    "language_info": {
      "name": "python"
    }
  },
  "cells": [
    {
      "cell_type": "markdown",
      "metadata": {
        "id": "view-in-github",
        "colab_type": "text"
      },
      "source": [
        "<a href=\"https://colab.research.google.com/github/Pragadishwaran074/Python-Programming-for-Machine-Learning/blob/main/Pandas_3.ipynb\" target=\"_parent\"><img src=\"https://colab.research.google.com/assets/colab-badge.svg\" alt=\"Open In Colab\"/></a>"
      ]
    },
    {
      "cell_type": "code",
      "execution_count": 1,
      "metadata": {
        "colab": {
          "base_uri": "https://localhost:8080/"
        },
        "id": "se6Bo4ShVQqg",
        "outputId": "ae5e2f94-a52a-4dd0-817b-5a0a7b1bdb29"
      },
      "outputs": [
        {
          "output_type": "stream",
          "name": "stdout",
          "text": [
            "series form array:\n",
            "0    s\n",
            "1    a\n",
            "2    i\n",
            "3    r\n",
            "4    b\n",
            "5    l\n",
            "6    i\n",
            "dtype: object\n"
          ]
        }
      ],
      "source": [
        "import pandas as pd\n",
        "import numpy as np\n",
        "arr=np.array(['s','a','i','r','b','l','i'])\n",
        "a=pd.Series(arr)\n",
        "print(\"series form array:\")\n",
        "print(a)"
      ]
    },
    {
      "cell_type": "code",
      "source": [
        "arr={'a':0,'b':1,'c':2}\n",
        "b=pd.Series(arr)\n",
        "print(\"\\n Series from dictionary:\\n\")\n",
        "print(b)"
      ],
      "metadata": {
        "colab": {
          "base_uri": "https://localhost:8080/"
        },
        "id": "ujInmQe8VVpp",
        "outputId": "f9867d0b-6e26-4084-f656-a65cc9f0a948"
      },
      "execution_count": 2,
      "outputs": [
        {
          "output_type": "stream",
          "name": "stdout",
          "text": [
            "\n",
            " Series from dictionary:\n",
            "\n",
            "a    0\n",
            "b    1\n",
            "c    2\n",
            "dtype: int64\n"
          ]
        }
      ]
    },
    {
      "cell_type": "code",
      "source": [
        "x=pd.Series(4,index=[0,1,2,3])\n",
        "print(\"\\n Series using Scalar\\n\")\n",
        "print(x)"
      ],
      "metadata": {
        "colab": {
          "base_uri": "https://localhost:8080/"
        },
        "id": "hZiSh7B2VVsY",
        "outputId": "ed310f1f-06dc-4c72-fad4-14a5fa3e951e"
      },
      "execution_count": 3,
      "outputs": [
        {
          "output_type": "stream",
          "name": "stdout",
          "text": [
            "\n",
            " Series using Scalar\n",
            "\n",
            "0    4\n",
            "1    4\n",
            "2    4\n",
            "3    4\n",
            "dtype: int64\n"
          ]
        }
      ]
    },
    {
      "cell_type": "code",
      "source": [
        "print(\"\\n a.series:\\n\",a)\n",
        "print(\"\\n index:\\n\",a.index)\n",
        "print(\"\\n values:\\n\",a.values)\n",
        "print(\"\\n shape:\\n\",a.shape)\n",
        "print(\"\\n dimension:\\n\",a.ndim)\n",
        "print(\"\\n size:\\n\",a.size)"
      ],
      "metadata": {
        "colab": {
          "base_uri": "https://localhost:8080/"
        },
        "id": "gxHb4mq1VVuw",
        "outputId": "f4f1912d-6219-454b-c5dc-085bf24f11a1"
      },
      "execution_count": 4,
      "outputs": [
        {
          "output_type": "stream",
          "name": "stdout",
          "text": [
            "\n",
            " a.series:\n",
            " 0    s\n",
            "1    a\n",
            "2    i\n",
            "3    r\n",
            "4    b\n",
            "5    l\n",
            "6    i\n",
            "dtype: object\n",
            "\n",
            " index:\n",
            " RangeIndex(start=0, stop=7, step=1)\n",
            "\n",
            " values:\n",
            " ['s' 'a' 'i' 'r' 'b' 'l' 'i']\n",
            "\n",
            " shape:\n",
            " (7,)\n",
            "\n",
            " dimension:\n",
            " 1\n",
            "\n",
            " size:\n",
            " 7\n"
          ]
        }
      ]
    }
  ]
}