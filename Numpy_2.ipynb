{
  "nbformat": 4,
  "nbformat_minor": 0,
  "metadata": {
    "colab": {
      "provenance": [],
      "authorship_tag": "ABX9TyPiXssCl11XtaLeKcQEH261",
      "include_colab_link": true
    },
    "kernelspec": {
      "name": "python3",
      "display_name": "Python 3"
    },
    "language_info": {
      "name": "python"
    }
  },
  "cells": [
    {
      "cell_type": "markdown",
      "metadata": {
        "id": "view-in-github",
        "colab_type": "text"
      },
      "source": [
        "<a href=\"https://colab.research.google.com/github/Pragadishwaran074/Python-Programming-for-Machine-Learning/blob/main/Numpy_2.ipynb\" target=\"_parent\"><img src=\"https://colab.research.google.com/assets/colab-badge.svg\" alt=\"Open In Colab\"/></a>"
      ]
    },
    {
      "cell_type": "code",
      "execution_count": 1,
      "metadata": {
        "colab": {
          "base_uri": "https://localhost:8080/"
        },
        "id": "uKrIvL59KIo0",
        "outputId": "4c28c363-feae-4bdb-93e7-3665a9813d1a"
      },
      "outputs": [
        {
          "output_type": "stream",
          "name": "stdout",
          "text": [
            "[3 4 5 6]\n"
          ]
        }
      ],
      "source": [
        "import numpy as np\n",
        "arr=np.array([1,2,3,4,5,6,7,8,9])\n",
        "slice1=arr[2:6]\n",
        "print(slice1)"
      ]
    },
    {
      "cell_type": "code",
      "source": [
        "slice2=arr[::2]\n",
        "print(slice2)"
      ],
      "metadata": {
        "colab": {
          "base_uri": "https://localhost:8080/"
        },
        "id": "eeubVCFFKM52",
        "outputId": "f9c909ea-9942-4f32-de3c-08c2aea3a277"
      },
      "execution_count": 2,
      "outputs": [
        {
          "output_type": "stream",
          "name": "stdout",
          "text": [
            "[1 3 5 7 9]\n"
          ]
        }
      ]
    },
    {
      "cell_type": "code",
      "source": [
        "rev_arr=arr[::-1]\n",
        "print(rev_arr)"
      ],
      "metadata": {
        "colab": {
          "base_uri": "https://localhost:8080/"
        },
        "id": "BgUJ7HfmKQod",
        "outputId": "cb554b02-2a1b-497c-bd33-63091cc1ab30"
      },
      "execution_count": 3,
      "outputs": [
        {
          "output_type": "stream",
          "name": "stdout",
          "text": [
            "[9 8 7 6 5 4 3 2 1]\n"
          ]
        }
      ]
    },
    {
      "cell_type": "code",
      "source": [
        "import numpy as np\n",
        "a=np.array([[1,2,3,4],[5,6,7,8],[9,10,11,12]])\n",
        "print(a[0:3:2])\n",
        "print(a[0::2])\n",
        "print(a[1::])\n",
        "print(a[2:,2:])\n",
        "print(a[:,2])\n",
        "print(a[:2:3])"
      ],
      "metadata": {
        "colab": {
          "base_uri": "https://localhost:8080/"
        },
        "id": "qv4nQ_RJKYAt",
        "outputId": "ebc46af9-bb33-4e2f-d1f0-06eec9639518"
      },
      "execution_count": 4,
      "outputs": [
        {
          "output_type": "stream",
          "name": "stdout",
          "text": [
            "[[ 1  2  3  4]\n",
            " [ 9 10 11 12]]\n",
            "[[ 1  2  3  4]\n",
            " [ 9 10 11 12]]\n",
            "[[ 5  6  7  8]\n",
            " [ 9 10 11 12]]\n",
            "[[11 12]]\n",
            "[ 3  7 11]\n",
            "[[1 2 3 4]]\n"
          ]
        }
      ]
    },
    {
      "cell_type": "code",
      "source": [
        "import numpy as np\n",
        "arr=np.array([[1,2,3],[4,5,6],[7,8,9]])\n",
        "subarray=arr[0:2,1:3]\n",
        "print(subarray)"
      ],
      "metadata": {
        "colab": {
          "base_uri": "https://localhost:8080/"
        },
        "id": "TdKxjgBjKaPV",
        "outputId": "62aff15b-b701-47af-c4e5-c7d5abb41a8b"
      },
      "execution_count": 5,
      "outputs": [
        {
          "output_type": "stream",
          "name": "stdout",
          "text": [
            "[[2 3]\n",
            " [5 6]]\n"
          ]
        }
      ]
    },
    {
      "cell_type": "code",
      "source": [
        "reversed_array=arr[::-1]\n",
        "print(reversed_array)\n"
      ],
      "metadata": {
        "colab": {
          "base_uri": "https://localhost:8080/"
        },
        "id": "XGG5hvdvO_dn",
        "outputId": "992ce27f-83db-453a-f96d-2bdce395d3de"
      },
      "execution_count": 6,
      "outputs": [
        {
          "output_type": "stream",
          "name": "stdout",
          "text": [
            "[[7 8 9]\n",
            " [4 5 6]\n",
            " [1 2 3]]\n"
          ]
        }
      ]
    },
    {
      "cell_type": "code",
      "source": [
        "col1=arr[:,0]\n",
        "print(col1)"
      ],
      "metadata": {
        "colab": {
          "base_uri": "https://localhost:8080/"
        },
        "id": "E3DVe15NPAfv",
        "outputId": "207d8660-91f3-45cd-8416-aafdb35c5fa2"
      },
      "execution_count": 7,
      "outputs": [
        {
          "output_type": "stream",
          "name": "stdout",
          "text": [
            "[1 4 7]\n"
          ]
        }
      ]
    },
    {
      "cell_type": "code",
      "source": [
        "row1=arr[0,:]\n",
        "print(row1)\n"
      ],
      "metadata": {
        "colab": {
          "base_uri": "https://localhost:8080/"
        },
        "id": "Fl3bkSQGPDd-",
        "outputId": "7d073c3c-d371-47d8-9df7-f666c6654594"
      },
      "execution_count": 8,
      "outputs": [
        {
          "output_type": "stream",
          "name": "stdout",
          "text": [
            "[1 2 3]\n"
          ]
        }
      ]
    },
    {
      "cell_type": "code",
      "source": [
        "import numpy as np\n",
        "arr=np.array([10,20,30,40,50])\n",
        "print (arr[0])\n",
        "print(arr[4])\n",
        "print(arr[-1])\n",
        "print(arr[1:4])\n",
        "print(arr[arr>25])\n",
        "print(arr[[1,3]])"
      ],
      "metadata": {
        "colab": {
          "base_uri": "https://localhost:8080/"
        },
        "id": "-CzO9njuPG92",
        "outputId": "ea7bdb5a-80b0-428a-bc34-fcf75e1804fd"
      },
      "execution_count": 9,
      "outputs": [
        {
          "output_type": "stream",
          "name": "stdout",
          "text": [
            "10\n",
            "50\n",
            "50\n",
            "[20 30 40]\n",
            "[30 40 50]\n",
            "[20 40]\n"
          ]
        }
      ]
    },
    {
      "cell_type": "code",
      "source": [
        "import numpy as np\n",
        "arr=np.array([[1,2,3],[4,5,6],[7,8,9]])\n",
        "print(arr[0,0])\n",
        "print(arr[1,2])"
      ],
      "metadata": {
        "colab": {
          "base_uri": "https://localhost:8080/"
        },
        "id": "2xWxHBIoPL1_",
        "outputId": "3143dc8c-2573-4bb7-cd0a-25f3c2e40d9b"
      },
      "execution_count": 10,
      "outputs": [
        {
          "output_type": "stream",
          "name": "stdout",
          "text": [
            "1\n",
            "6\n"
          ]
        }
      ]
    },
    {
      "cell_type": "code",
      "source": [
        "import numpy as np\n",
        "arr1=np.array([[1,2],[3,4]])\n",
        "arr2=np.array([[5,6],[7,8]])\n",
        "result=np.hstack((arr1,arr2))\n",
        "print(result)\n",
        "result1=np.vstack((arr1,arr2))\n",
        "print(result1)\n",
        "result2=np.dstack((arr1,arr2))\n",
        "print(result2)"
      ],
      "metadata": {
        "colab": {
          "base_uri": "https://localhost:8080/"
        },
        "id": "HABUizhsPGJ3",
        "outputId": "84278c04-f0ec-44ac-862a-b6310760c555"
      },
      "execution_count": 11,
      "outputs": [
        {
          "output_type": "stream",
          "name": "stdout",
          "text": [
            "[[1 2 5 6]\n",
            " [3 4 7 8]]\n",
            "[[1 2]\n",
            " [3 4]\n",
            " [5 6]\n",
            " [7 8]]\n",
            "[[[1 5]\n",
            "  [2 6]]\n",
            "\n",
            " [[3 7]\n",
            "  [4 8]]]\n"
          ]
        }
      ]
    },
    {
      "cell_type": "code",
      "source": [
        "import numpy as np\n",
        "arr=np.array([1,2,3,4,5,6])\n",
        "result=np.split(arr,3)\n",
        "print(result)\n",
        "arr1=np.array([1,2,3,4,5])\n",
        "result1=np.array_split(arr,3)\n",
        "print(result1)\n",
        "arr2=np.array([[1,2,3],[4,5,6]])\n",
        "result2=np.hsplit(arr2,3)\n",
        "print(result2)\n",
        "arr3=np.array([[1,2,3],[4,5,6],[7,8,9]])\n",
        "result3=np.vsplit(arr3,3)\n",
        "print(result3)\n",
        "arr4=np.array([[[1,2],[3,4]],[[5,6],[7,8]]])\n",
        "result4=np.dsplit(arr4,2)\n",
        "print(result4)"
      ],
      "metadata": {
        "colab": {
          "base_uri": "https://localhost:8080/"
        },
        "id": "P8j-dQ3tPRYG",
        "outputId": "e7ac1115-d181-4fcb-f301-08cfd8ac4f9c"
      },
      "execution_count": 12,
      "outputs": [
        {
          "output_type": "stream",
          "name": "stdout",
          "text": [
            "[array([1, 2]), array([3, 4]), array([5, 6])]\n",
            "[array([1, 2]), array([3, 4]), array([5, 6])]\n",
            "[array([[1],\n",
            "       [4]]), array([[2],\n",
            "       [5]]), array([[3],\n",
            "       [6]])]\n",
            "[array([[1, 2, 3]]), array([[4, 5, 6]]), array([[7, 8, 9]])]\n",
            "[array([[[1],\n",
            "        [3]],\n",
            "\n",
            "       [[5],\n",
            "        [7]]]), array([[[2],\n",
            "        [4]],\n",
            "\n",
            "       [[6],\n",
            "        [8]]])]\n"
          ]
        }
      ]
    }
  ]
}