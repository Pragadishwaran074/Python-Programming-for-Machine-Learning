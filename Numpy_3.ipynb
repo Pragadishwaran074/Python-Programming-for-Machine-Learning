{
  "nbformat": 4,
  "nbformat_minor": 0,
  "metadata": {
    "colab": {
      "provenance": [],
      "authorship_tag": "ABX9TyM8zm1R+ZOyC9sFqD5QdYyv",
      "include_colab_link": true
    },
    "kernelspec": {
      "name": "python3",
      "display_name": "Python 3"
    },
    "language_info": {
      "name": "python"
    }
  },
  "cells": [
    {
      "cell_type": "markdown",
      "metadata": {
        "id": "view-in-github",
        "colab_type": "text"
      },
      "source": [
        "<a href=\"https://colab.research.google.com/github/Pragadishwaran074/Python-Programming-for-Machine-Learning/blob/main/Numpy_3.ipynb\" target=\"_parent\"><img src=\"https://colab.research.google.com/assets/colab-badge.svg\" alt=\"Open In Colab\"/></a>"
      ]
    },
    {
      "cell_type": "code",
      "execution_count": 1,
      "metadata": {
        "colab": {
          "base_uri": "https://localhost:8080/"
        },
        "id": "hb6Vsek-S9A8",
        "outputId": "0de47d88-d77b-4969-8777-0fb2ed58bd07"
      },
      "outputs": [
        {
          "output_type": "stream",
          "name": "stdout",
          "text": [
            "(array([5]),)\n"
          ]
        }
      ],
      "source": [
        "import numpy as np\n",
        "arr=np.array([1,6,7,2,6,4])\n",
        "x=np.where(arr==4)\n",
        "print(x)"
      ]
    },
    {
      "cell_type": "code",
      "source": [
        "arr=np.array([1,6,3,7,6,4])\n",
        "x=np.where(arr%2==0)\n",
        "print(x)"
      ],
      "metadata": {
        "colab": {
          "base_uri": "https://localhost:8080/"
        },
        "id": "KJfU-SJtTD1J",
        "outputId": "63589685-a555-4eb0-ec9f-f2eb00b3c885"
      },
      "execution_count": 2,
      "outputs": [
        {
          "output_type": "stream",
          "name": "stdout",
          "text": [
            "(array([1, 4, 5]),)\n"
          ]
        }
      ]
    },
    {
      "cell_type": "code",
      "source": [
        "import numpy as np\n",
        "arr=np.array([0,1,2,2,7,8,9])\n",
        "x=np.searchsorted(arr,3,side='left')\n",
        "print(x)"
      ],
      "metadata": {
        "colab": {
          "base_uri": "https://localhost:8080/"
        },
        "id": "DJTJBUu_TGkH",
        "outputId": "ade9fa0f-7e81-45e8-d3be-9c99a96e6fc3"
      },
      "execution_count": 3,
      "outputs": [
        {
          "output_type": "stream",
          "name": "stdout",
          "text": [
            "4\n"
          ]
        }
      ]
    },
    {
      "cell_type": "code",
      "source": [
        "arr=np.array([0,1,5,3,6,7,2])\n",
        "x1=np.searchsorted(arr,3,side='left')\n",
        "print(x1)"
      ],
      "metadata": {
        "colab": {
          "base_uri": "https://localhost:8080/"
        },
        "id": "SYflAai3THYX",
        "outputId": "dfb4ca6b-964c-4899-9a84-d384fc559190"
      },
      "execution_count": 4,
      "outputs": [
        {
          "output_type": "stream",
          "name": "stdout",
          "text": [
            "2\n"
          ]
        }
      ]
    },
    {
      "cell_type": "code",
      "source": [
        "arr=np.array([0,1,2,2,7,8,9])\n",
        "x2=np.searchsorted(arr,8,side='right')\n",
        "print(x2)"
      ],
      "metadata": {
        "colab": {
          "base_uri": "https://localhost:8080/"
        },
        "id": "UgqdGZKkTHan",
        "outputId": "490c0c56-08ca-4f2d-dadb-33a2914aeb24"
      },
      "execution_count": 5,
      "outputs": [
        {
          "output_type": "stream",
          "name": "stdout",
          "text": [
            "6\n"
          ]
        }
      ]
    },
    {
      "cell_type": "code",
      "source": [
        "arr=np.array([9,5,2,7,6,4])\n",
        "print(np.sort(arr))"
      ],
      "metadata": {
        "colab": {
          "base_uri": "https://localhost:8080/"
        },
        "id": "x6Frb7lfTHdP",
        "outputId": "96a6bb25-7bd8-4a17-c44a-76c0978792c1"
      },
      "execution_count": 6,
      "outputs": [
        {
          "output_type": "stream",
          "name": "stdout",
          "text": [
            "[2 4 5 6 7 9]\n"
          ]
        }
      ]
    },
    {
      "cell_type": "code",
      "source": [
        "arr=np.array([[7,4,9],[9,1,4]])\n",
        "print(np.sort(arr))"
      ],
      "metadata": {
        "colab": {
          "base_uri": "https://localhost:8080/"
        },
        "id": "DSqpIOUnTHfy",
        "outputId": "fba592e2-6afb-4a73-d387-d3a8d3510785"
      },
      "execution_count": 7,
      "outputs": [
        {
          "output_type": "stream",
          "name": "stdout",
          "text": [
            "[[4 7 9]\n",
            " [1 4 9]]\n"
          ]
        }
      ]
    },
    {
      "cell_type": "code",
      "source": [
        "import numpy as np\n",
        "arr=np.array([41,42,43,44])\n",
        "x=[True,False,True,False]\n",
        "narr=arr>42\n",
        "newarr=arr[narr]\n",
        "print(arr)\n",
        "print(x)\n",
        "print(narr)\n",
        "print(newarr)"
      ],
      "metadata": {
        "colab": {
          "base_uri": "https://localhost:8080/"
        },
        "id": "6tMJCqfTTHiZ",
        "outputId": "dfec6fd1-8688-4613-814c-1d958162439d"
      },
      "execution_count": 8,
      "outputs": [
        {
          "output_type": "stream",
          "name": "stdout",
          "text": [
            "[41 42 43 44]\n",
            "[True, False, True, False]\n",
            "[False False  True  True]\n",
            "[43 44]\n"
          ]
        }
      ]
    },
    {
      "cell_type": "code",
      "source": [
        "import numpy as np\n",
        "arr=np.array([31,78,69,88])\n",
        "x=[False,True,True,False]\n",
        "newarr=arr[x]\n",
        "print(x)\n",
        "print(newarr)"
      ],
      "metadata": {
        "colab": {
          "base_uri": "https://localhost:8080/"
        },
        "id": "KUEC0vxRTYQ5",
        "outputId": "26a02f74-fa2f-4a46-c94a-85ea19f22289"
      },
      "execution_count": 9,
      "outputs": [
        {
          "output_type": "stream",
          "name": "stdout",
          "text": [
            "[False, True, True, False]\n",
            "[78 69]\n"
          ]
        }
      ]
    }
  ]
}